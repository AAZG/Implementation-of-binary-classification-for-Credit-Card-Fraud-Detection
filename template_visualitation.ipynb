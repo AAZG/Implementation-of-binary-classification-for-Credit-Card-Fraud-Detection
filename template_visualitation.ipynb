{
 "cells": [
  {
   "cell_type": "markdown",
   "metadata": {},
   "source": [
    "# Templates and Styles"
   ]
  },
  {
   "cell_type": "markdown",
   "metadata": {},
   "source": [
    "## Plotly"
   ]
  },
  {
   "cell_type": "code",
   "execution_count": 1,
   "metadata": {
    "cell_id": "41ee3c725a474d4683c859c2236a3bab",
    "deepnote_cell_type": "code",
    "deepnote_to_be_reexecuted": false,
    "execution_millis": 82,
    "execution_start": 1675304110955,
    "source_hash": "d582c2da"
   },
   "outputs": [],
   "source": [
    "import plotly.graph_objects as go\n",
    "import plotly.io as pio\n",
    "\n",
    "pio.templates['new_template'] = go.layout.Template()\n",
    "pio.templates['new_template']['layout']['font'] = {'family': 'verdana', 'size': 16, 'color': 'white'}\n",
    "pio.templates['new_template']['layout']['paper_bgcolor'] = 'black'\n",
    "pio.templates['new_template']['layout']['plot_bgcolor'] = 'black'\n",
    "pio.templates['new_template']['layout']['xaxis'] = {'title_standoff': 10, 'linecolor': 'black', 'mirror': True, 'gridcolor': '#EEEEEE'}\n",
    "pio.templates['new_template']['layout']['yaxis'] = {'title_standoff': 10, 'linecolor': 'black', 'mirror': True, 'gridcolor': '#EEEEEE'}\n",
    "pio.templates['new_template']['layout']['legend_bgcolor'] = 'rgb(117, 112, 179)'\n",
    "pio.templates['new_template']['layout']['height'] = 700\n",
    "pio.templates['new_template']['layout']['width'] = 1000\n",
    "pio.templates['new_template']['layout']['autosize'] = False\n",
    "\n",
    "pio.templates.default = 'new_template'\n",
    "\n",
    "\n",
    "\n",
    "# import plotly.offline as pyo ## esta linea no funciona en deepnote, comentar\n",
    "# pyo.init_notebook_mode() ## esta linea no funciona en deepnote, comentar"
   ]
  },
  {
   "cell_type": "markdown",
   "metadata": {},
   "source": [
    "## Seaborn and Matplotlib"
   ]
  },
  {
   "cell_type": "code",
   "execution_count": 3,
   "metadata": {
    "cell_id": "cee602e8aac84678867756c21e1fd3b3",
    "deepnote_cell_type": "code",
    "deepnote_to_be_reexecuted": false,
    "execution_millis": 783,
    "execution_start": 1675304111046,
    "source_hash": "efea8a4c"
   },
   "outputs": [],
   "source": [
    "import seaborn as sns\n",
    "import matplotlib.pyplot as plt\n",
    "\n",
    "%matplotlib widget\n",
    "%matplotlib inline\n",
    "\n",
    "\n",
    "sns.set_context(context='notebook')\n",
    "sns.set_style('darkgrid', {\"grid.color\": \".6\", \"grid.linestyle\": \":\"})\n",
    "plt.style.use('dark_background')\n",
    "plt.rcParams['figure.figsize'] = (9,9)"
   ]
  },
  {
   "cell_type": "markdown",
   "metadata": {},
   "source": [
    "## Pandas"
   ]
  },
  {
   "cell_type": "code",
   "execution_count": 5,
   "metadata": {},
   "outputs": [],
   "source": [
    "from IPython.display import display\n",
    "import pandas as pd \n",
    "\n",
    "\n",
    "cell_hover = {\n",
    "    \"selector\": \"caption\",\n",
    "    \"props\": [(\"background-color\", \"#B5EAEA\"), \n",
    "                      (\"color\", \"black\"), \n",
    "                      (\"font-weight\", \"bold\"), \n",
    "                      (\"font-size\", \"16px\"), \n",
    "                      (\"padding\", \"10px\"),\n",
    "                      (\"text-align\", \"center\")]\n",
    "}\n",
    "index_names = {\n",
    "    \"selector\": \".index_name\",\n",
    "    \"props\": \"font-style: italic; color: darkgrey; font-weight: normal; text-align: center; border: 1px solid white\"\n",
    "}\n",
    "headers = {\n",
    "    \"selector\": \"th:not(.index_name)\",\n",
    "    \"props\": \"background-color: #333333; color: white; text-align: center; border: 1px solid white\",\n",
    "}\n",
    "\n",
    "properties = {\"border\": \"1px solid black\", \n",
    "              \"width\": \"65px\", \n",
    "#               \"text-align\": \"center\" #depende del contexto centrar los datos numericos, si son pocos datos numericos y mucho texto, quizas sea mejor centrarlos.\n",
    "             }\n",
    "\n",
    "\n",
    "def pandas_title(df, title, retur_n=False):\n",
    "    if retur_n == False:\n",
    "        if isinstance(df, pd.io.formats.style.Styler):\n",
    "            display(df.set_caption(title).set_table_styles([cell_hover, index_names, headers]).set_properties(**properties))\n",
    "        else:\n",
    "            display(df.style.set_caption(title).set_table_styles([cell_hover, index_names, headers]).set_properties(**properties))\n",
    "    else:\n",
    "        if isinstance(df, pd.io.formats.style.Styler):\n",
    "            return df.set_caption(title).set_table_styles([cell_hover, index_names, headers]).set_properties(**properties)\n",
    "        else:\n",
    "            return df.style.set_caption(title).set_table_styles([cell_hover, index_names, headers]).set_properties(**properties)\n",
    "\n",
    "\n",
    "def above_zero(val):\n",
    "  color = 'green' if val > 0 else 'red'\n",
    "  return 'color: %s' % color"
   ]
  },
  {
   "cell_type": "markdown",
   "metadata": {
    "created_in_deepnote_cell": true,
    "deepnote_cell_type": "markdown",
    "tags": []
   },
   "source": [
    "<a style='text-decoration:none;line-height:16px;display:flex;color:#5B5B62;padding:10px;justify-content:end;' href='https://deepnote.com?utm_source=created-in-deepnote-cell&projectId=476ba5e6-eb90-4a9a-8755-c06626d1ab4d' target=\"_blank\">\n",
    "<img alt='Created in deepnote.com' style='display:inline;max-height:16px;margin:0px;margin-right:7.5px;' src='data:image/svg+xml;base64,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' > </img>\n",
    "Created in <span style='font-weight:600;margin-left:4px;'>Deepnote</span></a>"
   ]
  }
 ],
 "metadata": {
  "deepnote": {},
  "deepnote_execution_queue": [],
  "deepnote_notebook_id": "4b072e1b9c39454c8bc7edff53651d65",
  "kernelspec": {
   "display_name": "Python [conda env:root] *",
   "language": "python",
   "name": "conda-root-py"
  },
  "language_info": {
   "codemirror_mode": {
    "name": "ipython",
    "version": 3
   },
   "file_extension": ".py",
   "mimetype": "text/x-python",
   "name": "python",
   "nbconvert_exporter": "python",
   "pygments_lexer": "ipython3",
   "version": "3.8.8"
  }
 },
 "nbformat": 4,
 "nbformat_minor": 4
}
